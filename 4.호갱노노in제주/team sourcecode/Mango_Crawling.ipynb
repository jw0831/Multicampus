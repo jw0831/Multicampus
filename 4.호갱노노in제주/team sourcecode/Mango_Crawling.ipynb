{
 "cells": [
  {
   "cell_type": "code",
   "execution_count": 1,
   "metadata": {},
   "outputs": [],
   "source": [
    "from selenium import webdriver\n",
    "from bs4 import BeautifulSoup\n",
    "from urllib.request import Request, urlopen\n",
    "import time\n",
    "import re\n",
    "import pandas as pd\n",
    "import random"
   ]
  },
  {
   "cell_type": "code",
   "execution_count": 2,
   "metadata": {},
   "outputs": [
    {
     "data": {
      "text/plain": [
       "'https://www.mangoplate.com/search/제주도%20맛집'"
      ]
     },
     "execution_count": 2,
     "metadata": {},
     "output_type": "execute_result"
    }
   ],
   "source": [
    "def mango_searching(word):\n",
    "    url=\"https://www.mangoplate.com/search/\"+word\n",
    "    return url\n",
    "word=\"제주도%20맛집\"\n",
    "url= mango_searching(word)\n",
    "url"
   ]
  },
  {
   "cell_type": "code",
   "execution_count": 47,
   "metadata": {},
   "outputs": [],
   "source": [
    "def get_content(driver):\n",
    "    for k in range(1,11): # 한 페이지 모두 크롤링 시 다음 페이지로 넘어감(총 10페이지)\n",
    "        nextPage=driver.find_element_by_css_selector(\n",
    "            \"div.paging-container > p > a:nth-child({})\".format(k)\n",
    "        )\n",
    "        nextPage.click()\n",
    "        time.sleep(random.uniform(2,5))\n",
    "        for i in range(1,11): # 한 페이지에서 맛집 리스트 10개 순차 선택\n",
    "            for j in range(1,3): # 2열로 되어 있어서 1~2\n",
    "                select=driver.find_element_by_css_selector(\n",
    "                    \"section > div.search-list-restaurants-inner-wrap > ul > li:nth-child({}) > div:nth-child({})\".format(i,j)\n",
    "                )\n",
    "                select.click()\n",
    "                time.sleep(random.uniform(2,4))\n",
    "                try:\n",
    "                    get_name(driver)\n",
    "                    get_place(driver)\n",
    "                    get_hashtag(driver)\n",
    "                    get_point(driver)\n",
    "                    get_foodType(driver)\n",
    "                    get_favorite(driver)\n",
    "                    get_nextComment(driver)\n",
    "                    get_comment(driver)\n",
    "                    del_windows(driver)\n",
    "                    driver.switch_to_window(driver.window_handles[0])\n",
    "                    driver.get_window_position(driver.window_handles[0])\n",
    "                    driver.back()\n",
    "                    time.sleep(random.uniform(1,3))\n",
    "                except:\n",
    "                    continue"
   ]
  },
  {
   "cell_type": "code",
   "execution_count": 4,
   "metadata": {},
   "outputs": [],
   "source": [
    "def get_hashtag(driver):\n",
    "    tagList=[]\n",
    "    html = driver.page_source\n",
    "    soup = BeautifulSoup(html,'lxml')\n",
    "    tag = soup.select(\"div.column-contents > div > ul a\")\n",
    "    for i in tag:\n",
    "        tagList.append(i.text)\n",
    "    tags.append(tagList)"
   ]
  },
  {
   "cell_type": "code",
   "execution_count": 5,
   "metadata": {},
   "outputs": [],
   "source": [
    "def get_place(driver):\n",
    "    html = driver.page_source\n",
    "    soup = BeautifulSoup(html,'lxml')\n",
    "    place = soup.select(\"div.Restaurant__InfoItemLabel > div.Restaurant__InfoItemLabel--RoadAddressText\")\n",
    "    places.append(place[0].text)"
   ]
  },
  {
   "cell_type": "code",
   "execution_count": 6,
   "metadata": {},
   "outputs": [],
   "source": [
    "def get_name(driver):\n",
    "    html = driver.page_source\n",
    "    soup = BeautifulSoup(html,'lxml')\n",
    "    name = soup.select(\"header > div.restaurant_title_wrap > span > h1\")\n",
    "    names.append(name[0].text)"
   ]
  },
  {
   "cell_type": "code",
   "execution_count": 7,
   "metadata": {},
   "outputs": [],
   "source": [
    "def get_point(driver):\n",
    "    html = driver.page_source\n",
    "    soup = BeautifulSoup(html,'lxml')\n",
    "    point = soup.select(\"header > div.restaurant_title_wrap > span > strong > span\")\n",
    "    points.append(point[0].text)"
   ]
  },
  {
   "cell_type": "code",
   "execution_count": 8,
   "metadata": {},
   "outputs": [],
   "source": [
    "def get_foodType(driver):\n",
    "    html = driver.page_source\n",
    "    soup = BeautifulSoup(html,'lxml')\n",
    "    foodType = soup.select(\"body > main > article > div.column-wrapper > div.column-contents > div > section.restaurant-detail > table  span\")\n",
    "    foodTypes.append(foodType[2].text)"
   ]
  },
  {
   "cell_type": "code",
   "execution_count": 9,
   "metadata": {},
   "outputs": [],
   "source": [
    "def get_favorite(driver):\n",
    "    html = driver.page_source\n",
    "    soup = BeautifulSoup(html,'lxml')\n",
    "    zzim = soup.select(\"section.restaurant-detail > header > div.status > span.cnt.favorite\")\n",
    "    favorites.append(zzim[0].text)"
   ]
  },
  {
   "cell_type": "code",
   "execution_count": 10,
   "metadata": {},
   "outputs": [],
   "source": [
    "def get_comment(driver):\n",
    "    comment_list=[]\n",
    "    html = driver.page_source\n",
    "    soup = BeautifulSoup(html,'lxml')\n",
    "    comment = soup.select(\"p.RestaurantReviewItem__ReviewText\")\n",
    "    for i in range(len(comment)):\n",
    "        comment_list.append(comment[i].text)\n",
    "    comments.append(comment_list)"
   ]
  },
  {
   "cell_type": "code",
   "execution_count": 37,
   "metadata": {},
   "outputs": [],
   "source": [
    "def get_nextComment(driver):\n",
    "    q=0\n",
    "    while q<20:\n",
    "        try:\n",
    "            q=q+1\n",
    "            nextPage=driver.find_element_by_css_selector(\"div.RestaurantReviewList__MoreReviewButton\")\n",
    "            nextPage.click()\n",
    "        except:\n",
    "            continue"
   ]
  },
  {
   "cell_type": "code",
   "execution_count": 43,
   "metadata": {},
   "outputs": [],
   "source": [
    "def del_windows(driver):\n",
    "    for p in range(1,5):\n",
    "        try:\n",
    "            driver.switch_to_window(driver.window_handles[p])\n",
    "            driver.get_window_position(driver.window_handles[p])\n",
    "            driver.close()\n",
    "        except:\n",
    "            continue"
   ]
  },
  {
   "cell_type": "code",
   "execution_count": 48,
   "metadata": {},
   "outputs": [],
   "source": [
    "driver = webdriver.Chrome('C:/mychrome/chromedriver.exe')\n",
    "driver.get(url)"
   ]
  },
  {
   "cell_type": "code",
   "execution_count": 49,
   "metadata": {},
   "outputs": [
    {
     "name": "stderr",
     "output_type": "stream",
     "text": [
      "C:\\Users\\joww0\\AppData\\Roaming\\Python\\Python37\\site-packages\\ipykernel_launcher.py:4: DeprecationWarning: use driver.switch_to.window instead\n",
      "  after removing the cwd from sys.path.\n",
      "C:\\Users\\joww0\\AppData\\Roaming\\Python\\Python37\\site-packages\\ipykernel_launcher.py:25: DeprecationWarning: use driver.switch_to.window instead\n"
     ]
    }
   ],
   "source": [
    "places=[]\n",
    "tags=[]\n",
    "names=[]\n",
    "points=[]\n",
    "foodTypes=[]\n",
    "favorites=[]\n",
    "comments=[]\n",
    "get_content(driver)"
   ]
  },
  {
   "cell_type": "code",
   "execution_count": 51,
   "metadata": {},
   "outputs": [
    {
     "data": {
      "text/html": [
       "<div>\n",
       "<style scoped>\n",
       "    .dataframe tbody tr th:only-of-type {\n",
       "        vertical-align: middle;\n",
       "    }\n",
       "\n",
       "    .dataframe tbody tr th {\n",
       "        vertical-align: top;\n",
       "    }\n",
       "\n",
       "    .dataframe thead th {\n",
       "        text-align: right;\n",
       "    }\n",
       "</style>\n",
       "<table border=\"1\" class=\"dataframe\">\n",
       "  <thead>\n",
       "    <tr style=\"text-align: right;\">\n",
       "      <th></th>\n",
       "      <th>가게명</th>\n",
       "      <th>주소</th>\n",
       "      <th>점수</th>\n",
       "      <th>찜</th>\n",
       "      <th>음식 분야</th>\n",
       "      <th>해시태그</th>\n",
       "      <th>댓글</th>\n",
       "    </tr>\n",
       "  </thead>\n",
       "  <tbody>\n",
       "    <tr>\n",
       "      <th>0</th>\n",
       "      <td>상춘재</td>\n",
       "      <td>제주특별자치도 제주시 조천읍 선진길 26</td>\n",
       "      <td>4.7</td>\n",
       "      <td>4,707</td>\n",
       "      <td>한정식 / 백반 / 정통 한식</td>\n",
       "      <td>[#비빔밥, #제주도, #2018 인기, #Bibimbap, #2020망고플레이트인...</td>\n",
       "      <td>[\\n          다음 번에 제주도 간다면 첫 번째로 갈 집...!!!!진짜 ...</td>\n",
       "    </tr>\n",
       "    <tr>\n",
       "      <th>1</th>\n",
       "      <td>남양수산</td>\n",
       "      <td>제주특별자치도 서귀포시 성산읍 고성동서로56번길 11</td>\n",
       "      <td>4.6</td>\n",
       "      <td>5,009</td>\n",
       "      <td>해산물 요리</td>\n",
       "      <td>[#횟집, #2020망고플레이트인기맛집, #한식, #2018 인기, #고등어, #제...</td>\n",
       "      <td>[\\n          여기 너무맛있어용\\n        , \\n          ...</td>\n",
       "    </tr>\n",
       "    <tr>\n",
       "      <th>2</th>\n",
       "      <td>선흘곶</td>\n",
       "      <td>제주특별자치도 제주시 조천읍 동백로 102</td>\n",
       "      <td>4.6</td>\n",
       "      <td>3,212</td>\n",
       "      <td>한정식 / 백반 / 정통 한식</td>\n",
       "      <td>[#2020망고플레이트인기맛집, #아이와함께, #제주 함덕, #김녕, #한정식, #...</td>\n",
       "      <td>[\\n          추석연휴가 있어서 그런듯 10시30분 오픈이라고 해서 갔는데...</td>\n",
       "    </tr>\n",
       "    <tr>\n",
       "      <th>3</th>\n",
       "      <td>스시호시카이</td>\n",
       "      <td>제주특별자치도 제주시 오남로 90</td>\n",
       "      <td>4.5</td>\n",
       "      <td>1,644</td>\n",
       "      <td>회 / 스시</td>\n",
       "      <td>[#제주도, #2018 인기, #스시오마카세, #초밥, #Jeju, #홀릭 시크릿,...</td>\n",
       "      <td>[\\n          첫 오마카세를 제주도에서. 제주도 최초의 하이엔드 스시야, ...</td>\n",
       "    </tr>\n",
       "    <tr>\n",
       "      <th>4</th>\n",
       "      <td>미영이네식당</td>\n",
       "      <td>제주특별자치도 서귀포시 대정읍 하모항구로 42</td>\n",
       "      <td>4.5</td>\n",
       "      <td>2,750</td>\n",
       "      <td>해산물 요리</td>\n",
       "      <td>[#고등어, #2020망고플레이트인기맛집, #제주 모슬포, #화순, #해산물 요리]</td>\n",
       "      <td>[\\n          최신 메뉴판\\n        , \\n          여전히...</td>\n",
       "    </tr>\n",
       "    <tr>\n",
       "      <th>...</th>\n",
       "      <td>...</td>\n",
       "      <td>...</td>\n",
       "      <td>...</td>\n",
       "      <td>...</td>\n",
       "      <td>...</td>\n",
       "      <td>...</td>\n",
       "      <td>...</td>\n",
       "    </tr>\n",
       "    <tr>\n",
       "      <th>195</th>\n",
       "      <td>지미스</td>\n",
       "      <td>제주특별자치도 제주시 우도면 우도해안길 1132</td>\n",
       "      <td>3.7</td>\n",
       "      <td>1,438</td>\n",
       "      <td>브런치 / 버거 / 샌드위치</td>\n",
       "      <td>[#제주도, #2018 인기, #바다전망, #Jeju, #Café, #카페, #땅콩...</td>\n",
       "      <td>[\\n          우도에 들리면 꼭먹어봐야될 지미스 아이스크림. 매번 우도방문...</td>\n",
       "    </tr>\n",
       "    <tr>\n",
       "      <th>196</th>\n",
       "      <td>스테이굿무드</td>\n",
       "      <td>제주특별자치도 제주시 용남1길 32-4</td>\n",
       "      <td>3.7</td>\n",
       "      <td>618</td>\n",
       "      <td>카페 / 디저트</td>\n",
       "      <td>[#티라미수, #제주 왕벚꽃축제, #제주 제주시내, #카페, #디저트]</td>\n",
       "      <td>[\\n          예쁘긴 한데,, 저 치즈케익 위에 딸기 한 알 추가에 100...</td>\n",
       "    </tr>\n",
       "    <tr>\n",
       "      <th>197</th>\n",
       "      <td>우정회센터</td>\n",
       "      <td>제주특별자치도 서귀포시 중앙로62번길 18</td>\n",
       "      <td>3.7</td>\n",
       "      <td>229</td>\n",
       "      <td>해산물 요리</td>\n",
       "      <td>[#맛있는녀석들, #제주 서귀포시내, #해산물 요리]</td>\n",
       "      <td>[\\n          작년에 갔을 때 모둠회와 꽁치김밥을 먹었었는데 꽁치 김밥이 ...</td>\n",
       "    </tr>\n",
       "    <tr>\n",
       "      <th>198</th>\n",
       "      <td>커피박물관바움</td>\n",
       "      <td>제주특별자치도 서귀포시 성산읍 서성일로1168번길 89-17</td>\n",
       "      <td>3.7</td>\n",
       "      <td>237</td>\n",
       "      <td>카페 / 디저트</td>\n",
       "      <td>[#제주 성산, #우도, #카페, #디저트]</td>\n",
       "      <td>[\\n          커피맛보다는 풍경이 더 인상적이었던 곳. 일정이 약간 꼬여서...</td>\n",
       "    </tr>\n",
       "    <tr>\n",
       "      <th>199</th>\n",
       "      <td>원앤온리</td>\n",
       "      <td>제주특별자치도 서귀포시 안덕면 산방로 141</td>\n",
       "      <td>3.7</td>\n",
       "      <td>216</td>\n",
       "      <td>카페 / 디저트</td>\n",
       "      <td>[#제주 모슬포, #화순, #카페, #디저트]</td>\n",
       "      <td>[\\n          카페 뒤로 산, 카페 앞으로 바다가 시원하게 펼쳐져 있는 곳...</td>\n",
       "    </tr>\n",
       "  </tbody>\n",
       "</table>\n",
       "<p>200 rows × 7 columns</p>\n",
       "</div>"
      ],
      "text/plain": [
       "         가게명                                 주소   점수      찜             음식 분야  \\\n",
       "0        상춘재             제주특별자치도 제주시 조천읍 선진길 26  4.7  4,707  한정식 / 백반 / 정통 한식   \n",
       "1       남양수산      제주특별자치도 서귀포시 성산읍 고성동서로56번길 11  4.6  5,009            해산물 요리   \n",
       "2        선흘곶            제주특별자치도 제주시 조천읍 동백로 102  4.6  3,212  한정식 / 백반 / 정통 한식   \n",
       "3     스시호시카이                 제주특별자치도 제주시 오남로 90  4.5  1,644            회 / 스시   \n",
       "4     미영이네식당          제주특별자치도 서귀포시 대정읍 하모항구로 42  4.5  2,750            해산물 요리   \n",
       "..       ...                                ...  ...    ...               ...   \n",
       "195      지미스         제주특별자치도 제주시 우도면 우도해안길 1132  3.7  1,438   브런치 / 버거 / 샌드위치   \n",
       "196   스테이굿무드              제주특별자치도 제주시 용남1길 32-4  3.7    618          카페 / 디저트   \n",
       "197    우정회센터            제주특별자치도 서귀포시 중앙로62번길 18  3.7    229            해산물 요리   \n",
       "198  커피박물관바움  제주특별자치도 서귀포시 성산읍 서성일로1168번길 89-17  3.7    237          카페 / 디저트   \n",
       "199     원앤온리           제주특별자치도 서귀포시 안덕면 산방로 141  3.7    216          카페 / 디저트   \n",
       "\n",
       "                                                  해시태그  \\\n",
       "0    [#비빔밥, #제주도, #2018 인기, #Bibimbap, #2020망고플레이트인...   \n",
       "1    [#횟집, #2020망고플레이트인기맛집, #한식, #2018 인기, #고등어, #제...   \n",
       "2    [#2020망고플레이트인기맛집, #아이와함께, #제주 함덕, #김녕, #한정식, #...   \n",
       "3    [#제주도, #2018 인기, #스시오마카세, #초밥, #Jeju, #홀릭 시크릿,...   \n",
       "4       [#고등어, #2020망고플레이트인기맛집, #제주 모슬포, #화순, #해산물 요리]   \n",
       "..                                                 ...   \n",
       "195  [#제주도, #2018 인기, #바다전망, #Jeju, #Café, #카페, #땅콩...   \n",
       "196            [#티라미수, #제주 왕벚꽃축제, #제주 제주시내, #카페, #디저트]   \n",
       "197                      [#맛있는녀석들, #제주 서귀포시내, #해산물 요리]   \n",
       "198                           [#제주 성산, #우도, #카페, #디저트]   \n",
       "199                          [#제주 모슬포, #화순, #카페, #디저트]   \n",
       "\n",
       "                                                    댓글  \n",
       "0    [\\n          다음 번에 제주도 간다면 첫 번째로 갈 집...!!!!진짜 ...  \n",
       "1    [\\n          여기 너무맛있어용\\n        , \\n          ...  \n",
       "2    [\\n          추석연휴가 있어서 그런듯 10시30분 오픈이라고 해서 갔는데...  \n",
       "3    [\\n          첫 오마카세를 제주도에서. 제주도 최초의 하이엔드 스시야, ...  \n",
       "4    [\\n          최신 메뉴판\\n        , \\n          여전히...  \n",
       "..                                                 ...  \n",
       "195  [\\n          우도에 들리면 꼭먹어봐야될 지미스 아이스크림. 매번 우도방문...  \n",
       "196  [\\n          예쁘긴 한데,, 저 치즈케익 위에 딸기 한 알 추가에 100...  \n",
       "197  [\\n          작년에 갔을 때 모둠회와 꽁치김밥을 먹었었는데 꽁치 김밥이 ...  \n",
       "198  [\\n          커피맛보다는 풍경이 더 인상적이었던 곳. 일정이 약간 꼬여서...  \n",
       "199  [\\n          카페 뒤로 산, 카페 앞으로 바다가 시원하게 펼쳐져 있는 곳...  \n",
       "\n",
       "[200 rows x 7 columns]"
      ]
     },
     "execution_count": 51,
     "metadata": {},
     "output_type": "execute_result"
    }
   ],
   "source": [
    "df = pd.DataFrame((names, places, points, favorites, foodTypes, tags,comments)).transpose()\n",
    "df.columns=['가게명','주소','점수','찜','음식 분야','해시태그','댓글']\n",
    "df_mango = df\n",
    "df_mango"
   ]
  },
  {
   "cell_type": "code",
   "execution_count": 53,
   "metadata": {},
   "outputs": [],
   "source": [
    "df_mango.to_excel(\"mango_crawling_df.xlsx\")"
   ]
  }
 ],
 "metadata": {
  "kernelspec": {
   "display_name": "Python 3",
   "language": "python",
   "name": "python3"
  },
  "language_info": {
   "codemirror_mode": {
    "name": "ipython",
    "version": 3
   },
   "file_extension": ".py",
   "mimetype": "text/x-python",
   "name": "python",
   "nbconvert_exporter": "python",
   "pygments_lexer": "ipython3",
   "version": "3.7.7"
  }
 },
 "nbformat": 4,
 "nbformat_minor": 4
}
