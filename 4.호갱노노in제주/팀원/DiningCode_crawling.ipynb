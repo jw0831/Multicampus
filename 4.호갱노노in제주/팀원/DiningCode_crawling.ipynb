{
 "cells": [
  {
   "cell_type": "code",
   "execution_count": 1,
   "metadata": {},
   "outputs": [],
   "source": [
    "from selenium import webdriver\n",
    "from bs4 import BeautifulSoup\n",
    "from urllib.request import Request, urlopen\n",
    "import time\n",
    "import re\n",
    "import pandas as pd\n",
    "from tqdm.notebook import tqdm\n",
    "import random"
   ]
  },
  {
   "cell_type": "code",
   "execution_count": 2,
   "metadata": {},
   "outputs": [
    {
     "data": {
      "text/plain": [
       "'https://www.diningcode.com/list.php?query=제주도'"
      ]
     },
     "execution_count": 2,
     "metadata": {},
     "output_type": "execute_result"
    }
   ],
   "source": [
    "def dining_searching(word):\n",
    "    url=\"https://www.diningcode.com/list.php?query=\"+word\n",
    "    return url\n",
    "word=\"제주도\"\n",
    "url= dining_searching(word)\n",
    "url"
   ]
  },
  {
   "cell_type": "code",
   "execution_count": 3,
   "metadata": {},
   "outputs": [],
   "source": [
    "def get_content(driver):\n",
    "    for k in range(0,10):\n",
    "        try:\n",
    "            nextPage=driver.find_element_by_css_selector(\"#div_list_more\")\n",
    "            nextPage.click()\n",
    "            time.sleep(random.uniform(1,5))\n",
    "            \n",
    "        except:\n",
    "            for l in range(0,2): # 다이닝코드 내 주소가 숫자 100단위까지 있어서 lji로 표현함.\n",
    "                time.sleep(random.uniform(1,2))\n",
    "                for j in range(0,10): \n",
    "                    time.sleep(random.uniform(1,2))\n",
    "                    for i in range(0,10): \n",
    "                        l=str(l)\n",
    "                        i=str(i)\n",
    "                        j=str(j)\n",
    "                        ji=int(l+j+i)\n",
    "                        i=int(i)\n",
    "                        j=int(j)\n",
    "                        try:\n",
    "                            get_Page(driver,ji)\n",
    "                            switch_new_window(driver)\n",
    "                            get_name(driver)\n",
    "                            get_place(driver)\n",
    "                            get_hashtag(driver)\n",
    "                            get_point(driver)\n",
    "                            get_foodType(driver)\n",
    "                            get_favorite(driver)\n",
    "                            get_nextComment(driver)\n",
    "                            get_comment(driver)\n",
    "                            time.sleep(random.uniform(2,5))\n",
    "                            driver.close()\n",
    "                            driver.switch_to_window(driver.window_handles[0])\n",
    "                            driver.get_window_position(driver.window_handles[0])\n",
    "                            time.sleep(random.uniform(1,2))\n",
    "                        except:\n",
    "                            continue\n",
    "            break       \n",
    "        \n",
    "           "
   ]
  },
  {
   "cell_type": "code",
   "execution_count": 4,
   "metadata": {},
   "outputs": [],
   "source": [
    "def switch_new_window(driver):\n",
    "    driver.switch_to_window(driver.window_handles[1])\n",
    "    driver.get_window_position(driver.window_handles[1])\n",
    "\n",
    "# 할일 다 하고~~\n",
    "# driver.close()"
   ]
  },
  {
   "cell_type": "code",
   "execution_count": 5,
   "metadata": {},
   "outputs": [],
   "source": [
    "def get_Page(driver,ji):\n",
    "    nextPage=driver.find_element_by_css_selector(\"#div_list > li:nth-child({}) > a\".format(ji))\n",
    "    nextPage.click()"
   ]
  },
  {
   "cell_type": "code",
   "execution_count": 6,
   "metadata": {},
   "outputs": [],
   "source": [
    "def get_nextPage(driver):\n",
    "    nextPage=driver.find_element_by_css_selector(\"#div_list_more\")\n",
    "    nextPage.click()"
   ]
  },
  {
   "cell_type": "code",
   "execution_count": 7,
   "metadata": {},
   "outputs": [],
   "source": [
    "def get_hashtag(driver):\n",
    "    tagList=[]\n",
    "    html = driver.page_source\n",
    "    soup = BeautifulSoup(html,'lxml')\n",
    "    tag = soup.select(\"div.s-list.basic-info > ul > li.tag > span.button\")\n",
    "    for i in tag:\n",
    "        tagList.append(i.text)\n",
    "    tags.append(tagList)"
   ]
  },
  {
   "cell_type": "code",
   "execution_count": 8,
   "metadata": {
    "scrolled": true
   },
   "outputs": [],
   "source": [
    "def get_place(driver):\n",
    "    html = driver.page_source\n",
    "    soup = BeautifulSoup(html,'lxml')\n",
    "    place = soup.select(\"li.locat\")\n",
    "    places.append(place[0].text)"
   ]
  },
  {
   "cell_type": "code",
   "execution_count": 9,
   "metadata": {},
   "outputs": [],
   "source": [
    "def get_name(driver):\n",
    "    html = driver.page_source\n",
    "    soup = BeautifulSoup(html,'lxml')\n",
    "    name = soup.select(\"#div_profile > div.s-list.pic-grade > div.tit-point > p\")\n",
    "    names.append(name[0].text)"
   ]
  },
  {
   "cell_type": "code",
   "execution_count": 10,
   "metadata": {},
   "outputs": [],
   "source": [
    "def get_point(driver):\n",
    "    html = driver.page_source\n",
    "    soup = BeautifulSoup(html,'lxml')\n",
    "    point = soup.select(\"#div_profile > div.s-list.pic-grade > div.sns-grade > p > strong\")\n",
    "    points.append((point[0].text)[0:2])"
   ]
  },
  {
   "cell_type": "code",
   "execution_count": 11,
   "metadata": {},
   "outputs": [],
   "source": [
    "def get_foodType(driver):\n",
    "    html = driver.page_source\n",
    "    soup = BeautifulSoup(html,'lxml')\n",
    "    foodType = soup.select(\"#div_profile > div.s-list.pic-grade > div.btxt\")\n",
    "    foodTypes.append((foodType[0].text).split('|')[1:])"
   ]
  },
  {
   "cell_type": "code",
   "execution_count": 12,
   "metadata": {},
   "outputs": [],
   "source": [
    "def get_favorite(driver):\n",
    "    html = driver.page_source\n",
    "    soup = BeautifulSoup(html,'lxml')\n",
    "    zzim = soup.select(\"#div_profile > div.s-list.pic-grade > div.favor-pic-appra > a.favor > span > i\")\n",
    "    favorites.append(zzim[0].text)"
   ]
  },
  {
   "cell_type": "code",
   "execution_count": 30,
   "metadata": {
    "scrolled": true
   },
   "outputs": [],
   "source": [
    "def get_comment(driver):\n",
    "    comment_list=[]\n",
    "    html = driver.page_source\n",
    "    soup = BeautifulSoup(html,'lxml')\n",
    "    comment = soup.select(\"p.review_contents.btxt\")\n",
    "    for i in range(len(comment)):\n",
    "        comment_list.append(comment[i].text)\n",
    "    comments.append(comment_list)"
   ]
  },
  {
   "cell_type": "code",
   "execution_count": 34,
   "metadata": {},
   "outputs": [],
   "source": [
    "def get_nextComment(driver):\n",
    "    q=0\n",
    "    while q<20:\n",
    "        try:\n",
    "            q=q+1\n",
    "            nextPage=driver.find_element_by_css_selector(\"#div_more_review\")\n",
    "            nextPage.click()\n",
    "        except :\n",
    "            continue\n",
    "            "
   ]
  },
  {
   "cell_type": "code",
   "execution_count": 35,
   "metadata": {},
   "outputs": [],
   "source": [
    "driver = webdriver.Chrome('C:/mychrome/chromedriver.exe')\n",
    "driver.get(url)"
   ]
  },
  {
   "cell_type": "code",
   "execution_count": 36,
   "metadata": {},
   "outputs": [
    {
     "name": "stderr",
     "output_type": "stream",
     "text": [
      "C:\\Users\\joww0\\AppData\\Roaming\\Python\\Python37\\site-packages\\ipykernel_launcher.py:2: DeprecationWarning: use driver.switch_to.window instead\n",
      "  \n",
      "C:\\Users\\joww0\\AppData\\Roaming\\Python\\Python37\\site-packages\\ipykernel_launcher.py:33: DeprecationWarning: use driver.switch_to.window instead\n"
     ]
    }
   ],
   "source": [
    "places=[]\n",
    "tags=[]\n",
    "names=[]\n",
    "points=[]\n",
    "foodTypes=[]\n",
    "favorites=[]\n",
    "comments=[]\n",
    "get_content(driver)"
   ]
  },
  {
   "cell_type": "code",
   "execution_count": 39,
   "metadata": {},
   "outputs": [
    {
     "data": {
      "text/html": [
       "<div>\n",
       "<style scoped>\n",
       "    .dataframe tbody tr th:only-of-type {\n",
       "        vertical-align: middle;\n",
       "    }\n",
       "\n",
       "    .dataframe tbody tr th {\n",
       "        vertical-align: top;\n",
       "    }\n",
       "\n",
       "    .dataframe thead th {\n",
       "        text-align: right;\n",
       "    }\n",
       "</style>\n",
       "<table border=\"1\" class=\"dataframe\">\n",
       "  <thead>\n",
       "    <tr style=\"text-align: right;\">\n",
       "      <th></th>\n",
       "      <th>가게명</th>\n",
       "      <th>주소</th>\n",
       "      <th>점수</th>\n",
       "      <th>찜</th>\n",
       "      <th>음식 분야</th>\n",
       "      <th>태그</th>\n",
       "      <th>댓글</th>\n",
       "    </tr>\n",
       "  </thead>\n",
       "  <tbody>\n",
       "    <tr>\n",
       "      <th>0</th>\n",
       "      <td>우진해장국</td>\n",
       "      <td>제주특별자치도 제주시 삼도2동 831</td>\n",
       "      <td>92</td>\n",
       "      <td>947</td>\n",
       "      <td>[ 고사리육개장,  몸국 ]</td>\n",
       "      <td>[다코매거진선정,  2019대표맛집,  수요미식회,  향토음식,  제주향토음식,  ...</td>\n",
       "      <td>[자타가 공인하는 제주 최고 맛집으로 웨이팅 없이 쉽게 먹을 수 없는 곳~\\n\\n도...</td>\n",
       "    </tr>\n",
       "    <tr>\n",
       "      <th>1</th>\n",
       "      <td>명진전복</td>\n",
       "      <td>제주특별자치도 제주시 구좌읍 평대리 515-28</td>\n",
       "      <td>87</td>\n",
       "      <td>1133</td>\n",
       "      <td>[ 전복돌솥밥,  전복구이 ]</td>\n",
       "      <td>[2019대표맛집,  수요미식회,  줄서서먹는,  멋진풍경,  시골집,  아이와함께...</td>\n",
       "      <td>[후기 많은거 보고 무조건 찾아 갔다. 약간의 대기 끝에 드뎌 입장 일단 맨위의 기...</td>\n",
       "    </tr>\n",
       "    <tr>\n",
       "      <th>2</th>\n",
       "      <td>올래국수</td>\n",
       "      <td>제주특별자치도 제주시 연동 301-19</td>\n",
       "      <td>82</td>\n",
       "      <td>935</td>\n",
       "      <td>[ 고기국수 ]</td>\n",
       "      <td>[2019대표맛집,  수요미식회,  줄서서먹는,  향토음식,  원조,  해장용,  ...</td>\n",
       "      <td>[단일메뉴라서 인원수만 알려주면 됌 ㅎ\\n사람많을때 익숙해선지 사람많르면 몇분정도 ...</td>\n",
       "    </tr>\n",
       "    <tr>\n",
       "      <th>3</th>\n",
       "      <td>자매국수 본점</td>\n",
       "      <td>제주특별자치도 제주시 일도2동 1034-10</td>\n",
       "      <td>82</td>\n",
       "      <td>700</td>\n",
       "      <td>[ 고기국수,  돔베고기 ]</td>\n",
       "      <td>[2019대표맛집,  제주향토음식,  줄서서먹는,  원조,  간식,  간단한요기, ...</td>\n",
       "      <td>[제주도 오면 그냥 당연히 한번 가야 할것만 같은 그런곳이다. 국수 팔아서 건물 올...</td>\n",
       "    </tr>\n",
       "    <tr>\n",
       "      <th>4</th>\n",
       "      <td>오는정김밥</td>\n",
       "      <td>제주특별자치도 서귀포시 서귀동 256-26</td>\n",
       "      <td>80</td>\n",
       "      <td>583</td>\n",
       "      <td>[ 깻잎김밥,  김밥 ]</td>\n",
       "      <td>[2019대표맛집,  식신로드,  먹거리X파일,  원조,  줄서서먹는,  산책로, ...</td>\n",
       "      <td>[제주도 오면 항상 먹는 김밥~전화를 너무 많이 해서 힘들지만 그래도 맛있다ㅠㅠ, ...</td>\n",
       "    </tr>\n",
       "    <tr>\n",
       "      <th>...</th>\n",
       "      <td>...</td>\n",
       "      <td>...</td>\n",
       "      <td>...</td>\n",
       "      <td>...</td>\n",
       "      <td>...</td>\n",
       "      <td>...</td>\n",
       "      <td>...</td>\n",
       "    </tr>\n",
       "    <tr>\n",
       "      <th>95</th>\n",
       "      <td>성읍 칠십리식당</td>\n",
       "      <td>제주특별자치도 서귀포시 표선면 성읍리 580</td>\n",
       "      <td>58</td>\n",
       "      <td>204</td>\n",
       "      <td>[ 흑돼지,  꿩 ]</td>\n",
       "      <td>[백종원의3대천왕,  깔끔한,  옛정취,  현지인맛집,  보양식,  모임,  어르신]</td>\n",
       "      <td>[고기는 맛있습니다 다소 양이 적다는 느낌은 들지만 고사리와 콩나물과 함께 먹으니 ...</td>\n",
       "    </tr>\n",
       "    <tr>\n",
       "      <th>96</th>\n",
       "      <td>제주시새우리</td>\n",
       "      <td>제주특별자치도 제주시 삼도2동 1098-3</td>\n",
       "      <td>58</td>\n",
       "      <td>32</td>\n",
       "      <td>[ 딱새우,  전복김밥 ]</td>\n",
       "      <td>[예쁜,  산책로,  숨은맛집,  혼밥,  간단하게요기,  부모님]</td>\n",
       "      <td>[인스타 사진찍기 좋은 음식점 외관과 김밥입니다. 김만복과 새우리 비교를 많이 하는...</td>\n",
       "    </tr>\n",
       "    <tr>\n",
       "      <th>97</th>\n",
       "      <td>다정이네</td>\n",
       "      <td>제주특별자치도 서귀포시 서귀동 255-7</td>\n",
       "      <td>58</td>\n",
       "      <td>39</td>\n",
       "      <td>[ 김밥,  멸치김밥 ]</td>\n",
       "      <td>[줄서서먹는,  편안한,  아이와함께,  야식,  간식]</td>\n",
       "      <td>[근처 김밥집은 웨이팅이 있다는 소문을 듣고 기다리기 싫어 방문한 곳\\n\\n관광객 ...</td>\n",
       "    </tr>\n",
       "    <tr>\n",
       "      <th>98</th>\n",
       "      <td>파도소리해녀촌</td>\n",
       "      <td>제주특별자치도 제주시 우도면 874-2</td>\n",
       "      <td>57</td>\n",
       "      <td>31</td>\n",
       "      <td>[ 보말칼국수,  보말죽 ]</td>\n",
       "      <td>[몸에좋은음식,  숙취해소,  멋진풍경,  보양식,  해장,  건강식]</td>\n",
       "      <td>[가성비 별로요\\n유명한데 생각보단 별로였어요\\n맛 그닥\\n한번 쯤 가볼만한 정도예...</td>\n",
       "    </tr>\n",
       "    <tr>\n",
       "      <th>99</th>\n",
       "      <td>일통이반</td>\n",
       "      <td>제주특별자치도 제주시 삼도2동 6-1</td>\n",
       "      <td>57</td>\n",
       "      <td>63</td>\n",
       "      <td>[ 보말죽,  소주방 ]</td>\n",
       "      <td>[원나잇푸드트립,  감성적인,  숨은맛집,  허름한,  보약,  부모님,  건강식]</td>\n",
       "      <td>[주차할곳은 따로없어서 골목에 주차해야합니다\\n해산물이 정말 신선해요 특히 왕보말죽...</td>\n",
       "    </tr>\n",
       "  </tbody>\n",
       "</table>\n",
       "<p>100 rows × 7 columns</p>\n",
       "</div>"
      ],
      "text/plain": [
       "         가게명                          주소  점수     찜             음식 분야  \\\n",
       "0      우진해장국        제주특별자치도 제주시 삼도2동 831  92   947   [ 고사리육개장,  몸국 ]   \n",
       "1       명진전복  제주특별자치도 제주시 구좌읍 평대리 515-28  87  1133  [ 전복돌솥밥,  전복구이 ]   \n",
       "2       올래국수       제주특별자치도 제주시 연동 301-19  82   935          [ 고기국수 ]   \n",
       "3    자매국수 본점    제주특별자치도 제주시 일도2동 1034-10  82   700   [ 고기국수,  돔베고기 ]   \n",
       "4      오는정김밥     제주특별자치도 서귀포시 서귀동 256-26  80   583     [ 깻잎김밥,  김밥 ]   \n",
       "..       ...                         ...  ..   ...               ...   \n",
       "95  성읍 칠십리식당    제주특별자치도 서귀포시 표선면 성읍리 580  58   204       [ 흑돼지,  꿩 ]   \n",
       "96    제주시새우리     제주특별자치도 제주시 삼도2동 1098-3  58    32    [ 딱새우,  전복김밥 ]   \n",
       "97      다정이네      제주특별자치도 서귀포시 서귀동 255-7  58    39     [ 김밥,  멸치김밥 ]   \n",
       "98   파도소리해녀촌       제주특별자치도 제주시 우도면 874-2  57    31   [ 보말칼국수,  보말죽 ]   \n",
       "99      일통이반        제주특별자치도 제주시 삼도2동 6-1  57    63     [ 보말죽,  소주방 ]   \n",
       "\n",
       "                                                   태그  \\\n",
       "0   [다코매거진선정,  2019대표맛집,  수요미식회,  향토음식,  제주향토음식,  ...   \n",
       "1   [2019대표맛집,  수요미식회,  줄서서먹는,  멋진풍경,  시골집,  아이와함께...   \n",
       "2   [2019대표맛집,  수요미식회,  줄서서먹는,  향토음식,  원조,  해장용,  ...   \n",
       "3   [2019대표맛집,  제주향토음식,  줄서서먹는,  원조,  간식,  간단한요기, ...   \n",
       "4   [2019대표맛집,  식신로드,  먹거리X파일,  원조,  줄서서먹는,  산책로, ...   \n",
       "..                                                ...   \n",
       "95    [백종원의3대천왕,  깔끔한,  옛정취,  현지인맛집,  보양식,  모임,  어르신]   \n",
       "96              [예쁜,  산책로,  숨은맛집,  혼밥,  간단하게요기,  부모님]   \n",
       "97                    [줄서서먹는,  편안한,  아이와함께,  야식,  간식]   \n",
       "98            [몸에좋은음식,  숙취해소,  멋진풍경,  보양식,  해장,  건강식]   \n",
       "99     [원나잇푸드트립,  감성적인,  숨은맛집,  허름한,  보약,  부모님,  건강식]   \n",
       "\n",
       "                                                   댓글  \n",
       "0   [자타가 공인하는 제주 최고 맛집으로 웨이팅 없이 쉽게 먹을 수 없는 곳~\\n\\n도...  \n",
       "1   [후기 많은거 보고 무조건 찾아 갔다. 약간의 대기 끝에 드뎌 입장 일단 맨위의 기...  \n",
       "2   [단일메뉴라서 인원수만 알려주면 됌 ㅎ\\n사람많을때 익숙해선지 사람많르면 몇분정도 ...  \n",
       "3   [제주도 오면 그냥 당연히 한번 가야 할것만 같은 그런곳이다. 국수 팔아서 건물 올...  \n",
       "4   [제주도 오면 항상 먹는 김밥~전화를 너무 많이 해서 힘들지만 그래도 맛있다ㅠㅠ, ...  \n",
       "..                                                ...  \n",
       "95  [고기는 맛있습니다 다소 양이 적다는 느낌은 들지만 고사리와 콩나물과 함께 먹으니 ...  \n",
       "96  [인스타 사진찍기 좋은 음식점 외관과 김밥입니다. 김만복과 새우리 비교를 많이 하는...  \n",
       "97  [근처 김밥집은 웨이팅이 있다는 소문을 듣고 기다리기 싫어 방문한 곳\\n\\n관광객 ...  \n",
       "98  [가성비 별로요\\n유명한데 생각보단 별로였어요\\n맛 그닥\\n한번 쯤 가볼만한 정도예...  \n",
       "99  [주차할곳은 따로없어서 골목에 주차해야합니다\\n해산물이 정말 신선해요 특히 왕보말죽...  \n",
       "\n",
       "[100 rows x 7 columns]"
      ]
     },
     "execution_count": 39,
     "metadata": {},
     "output_type": "execute_result"
    }
   ],
   "source": [
    "df = pd.DataFrame((names, places, points, favorites, foodTypes, tags, comments)).transpose()\n",
    "df.columns=['가게명','주소','점수','찜','음식 분야','태그','댓글']\n",
    "df_code = df\n",
    "df_code"
   ]
  },
  {
   "cell_type": "code",
   "execution_count": 40,
   "metadata": {},
   "outputs": [],
   "source": [
    "df_code.to_excel(\"code_crawling_df.xlsx\")"
   ]
  }
 ],
 "metadata": {
  "kernelspec": {
   "display_name": "Python 3",
   "language": "python",
   "name": "python3"
  },
  "language_info": {
   "codemirror_mode": {
    "name": "ipython",
    "version": 3
   },
   "file_extension": ".py",
   "mimetype": "text/x-python",
   "name": "python",
   "nbconvert_exporter": "python",
   "pygments_lexer": "ipython3",
   "version": "3.7.7"
  }
 },
 "nbformat": 4,
 "nbformat_minor": 4
}
