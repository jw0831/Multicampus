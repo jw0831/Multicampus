{
 "cells": [
  {
   "cell_type": "code",
   "execution_count": null,
   "metadata": {
    "id": "2lOp4y6cvqjX"
   },
   "outputs": [],
   "source": [
    "import pandas as pd\n",
    "import numpy as np"
   ]
  },
  {
   "cell_type": "code",
   "execution_count": null,
   "metadata": {
    "id": "PVj7Tom0vqjh"
   },
   "outputs": [],
   "source": [
    "#민주당\n",
    "politicos=pd.read_csv('politicosecond.csv')\n",
    "politicof=pd.read_csv('politico.csv')\n",
    "politico=pd.concat([politicof,politicos],ignore_index=True)\n",
    "cbs = pd.read_csv('CBS_crawling.csv')\n",
    "\n",
    "cbs = cbs.drop(['Unnamed: 0'],axis=1)\n",
    "cbs.date = cbs.date.astype('datetime64[ns]')\n",
    "cbs.rename(columns={'date':'Date','title':'Title','content':'Text','press':'Press'},inplace=True)\n",
    "cbs['Topic'] = 'Election'\n",
    "\n",
    "politico['Date'].astype('datetime64[ns]')\n",
    "politico=politico[politico.columns.drop('Link')]"
   ]
  },
  {
   "cell_type": "code",
   "execution_count": null,
   "metadata": {
    "id": "ZCfuSdJDvqjl"
   },
   "outputs": [],
   "source": [
    "#공화당\n",
    "fox = pd.read_csv('fox_news.csv')\n",
    "\n",
    "fox = fox.drop(['Link'],axis=1)\n",
    "fox.date = fox.date.astype('datetime64[ns]')\n",
    "fox.rename(columns={'headlines':'Title','category':'Topic','text':'Text','date':'Date'},inplace=True)"
   ]
  },
  {
   "cell_type": "code",
   "execution_count": null,
   "metadata": {
    "id": "W5dCD3xivqjq"
   },
   "outputs": [],
   "source": [
    "#중도\n",
    "center=pd.read_csv('merged_center_201103.csv')\n",
    "\n",
    "center = center.drop(['Unnamed: 0','Time'],axis=1)\n",
    "center.Date = center.Date.astype('datetime64[ns]')"
   ]
  },
  {
   "cell_type": "code",
   "execution_count": null,
   "metadata": {
    "id": "1BVLT1Zevqjw"
   },
   "outputs": [],
   "source": [
    "center=center[(center.Topic=='2020 U.S. Elections')|(center.Topic=='Elections')|(center.Topic=='Politics')|(center.Topic=='Trump 2020')|(center.Topic=='Biden 2020')]"
   ]
  },
  {
   "cell_type": "code",
   "execution_count": null,
   "metadata": {
    "id": "Gc_2Uo_Dvqj4"
   },
   "outputs": [],
   "source": [
    "fox=fox[(fox.Topic=='2020 Presidential Election')|(fox.Topic=='ELECTIONS')]"
   ]
  },
  {
   "cell_type": "code",
   "execution_count": null,
   "metadata": {
    "id": "Tzl9SFCEvqj_",
    "outputId": "9cf43f5c-9f8d-4216-cf7d-a07f052e03fd"
   },
   "outputs": [
    {
     "data": {
      "text/html": [
       "<div>\n",
       "<style scoped>\n",
       "    .dataframe tbody tr th:only-of-type {\n",
       "        vertical-align: middle;\n",
       "    }\n",
       "\n",
       "    .dataframe tbody tr th {\n",
       "        vertical-align: top;\n",
       "    }\n",
       "\n",
       "    .dataframe thead th {\n",
       "        text-align: right;\n",
       "    }\n",
       "</style>\n",
       "<table border=\"1\" class=\"dataframe\">\n",
       "  <thead>\n",
       "    <tr style=\"text-align: right;\">\n",
       "      <th></th>\n",
       "      <th>Unnamed: 0</th>\n",
       "      <th>Title</th>\n",
       "      <th>Date</th>\n",
       "      <th>Press</th>\n",
       "      <th>Topic</th>\n",
       "      <th>Text</th>\n",
       "    </tr>\n",
       "  </thead>\n",
       "  <tbody>\n",
       "    <tr>\n",
       "      <th>13</th>\n",
       "      <td>13.0</td>\n",
       "      <td>Newt Gingrich: Democrats prove they are the 'L...</td>\n",
       "      <td>2020-09-01</td>\n",
       "      <td>Fox</td>\n",
       "      <td>2020 Presidential Election</td>\n",
       "      <td>Fox News Flash top entertainment and celebrity...</td>\n",
       "    </tr>\n",
       "    <tr>\n",
       "      <th>14</th>\n",
       "      <td>14.0</td>\n",
       "      <td>Ed Rollins says election could come down to Wi...</td>\n",
       "      <td>2020-09-01</td>\n",
       "      <td>Fox</td>\n",
       "      <td>2020 Presidential Election</td>\n",
       "      <td>White House Strategic Communications Director ...</td>\n",
       "    </tr>\n",
       "    <tr>\n",
       "      <th>16</th>\n",
       "      <td>16.0</td>\n",
       "      <td>Anti-Trump Lincoln Project launches coalition ...</td>\n",
       "      <td>2020-09-01</td>\n",
       "      <td>Fox</td>\n",
       "      <td>ELECTIONS</td>\n",
       "      <td>House Minority Leader Kevin McCarthy, R-Calif....</td>\n",
       "    </tr>\n",
       "    <tr>\n",
       "      <th>23</th>\n",
       "      <td>23.0</td>\n",
       "      <td>Biden’s tough tone on riots comes amid attacks...</td>\n",
       "      <td>2020-09-01</td>\n",
       "      <td>Fox</td>\n",
       "      <td>ELECTIONS</td>\n",
       "      <td>Steve Hilton highlights President Trump's fulf...</td>\n",
       "    </tr>\n",
       "    <tr>\n",
       "      <th>27</th>\n",
       "      <td>27.0</td>\n",
       "      <td>NY attorney general files injunction to stop T...</td>\n",
       "      <td>2020-09-02</td>\n",
       "      <td>Fox</td>\n",
       "      <td>ELECTIONS</td>\n",
       "      <td>President Trump holds a ‘Making America Great ...</td>\n",
       "    </tr>\n",
       "  </tbody>\n",
       "</table>\n",
       "</div>"
      ],
      "text/plain": [
       "    Unnamed: 0                                              Title       Date  \\\n",
       "13        13.0  Newt Gingrich: Democrats prove they are the 'L... 2020-09-01   \n",
       "14        14.0  Ed Rollins says election could come down to Wi... 2020-09-01   \n",
       "16        16.0  Anti-Trump Lincoln Project launches coalition ... 2020-09-01   \n",
       "23        23.0  Biden’s tough tone on riots comes amid attacks... 2020-09-01   \n",
       "27        27.0  NY attorney general files injunction to stop T... 2020-09-02   \n",
       "\n",
       "   Press                       Topic  \\\n",
       "13   Fox  2020 Presidential Election   \n",
       "14   Fox  2020 Presidential Election   \n",
       "16   Fox                   ELECTIONS   \n",
       "23   Fox                   ELECTIONS   \n",
       "27   Fox                   ELECTIONS   \n",
       "\n",
       "                                                 Text  \n",
       "13  Fox News Flash top entertainment and celebrity...  \n",
       "14  White House Strategic Communications Director ...  \n",
       "16  House Minority Leader Kevin McCarthy, R-Calif....  \n",
       "23  Steve Hilton highlights President Trump's fulf...  \n",
       "27  President Trump holds a ‘Making America Great ...  "
      ]
     },
     "execution_count": 77,
     "metadata": {
      "tags": []
     },
     "output_type": "execute_result"
    }
   ],
   "source": [
    "news = pd.concat([fox,center,cbs,politico])\n",
    "news['Date']=pd.to_datetime(news.Date)\n",
    "news.head()"
   ]
  },
  {
   "cell_type": "code",
   "execution_count": null,
   "metadata": {
    "id": "Qbb9Mh81vqkH",
    "outputId": "857260ae-5b1e-4ec4-8750-0ca0d675cd67"
   },
   "outputs": [
    {
     "data": {
      "text/plain": [
       "2386"
      ]
     },
     "execution_count": 78,
     "metadata": {
      "tags": []
     },
     "output_type": "execute_result"
    }
   ],
   "source": [
    "len(news)"
   ]
  },
  {
   "cell_type": "code",
   "execution_count": null,
   "metadata": {
    "id": "HcW45VTqvqkL"
   },
   "outputs": [],
   "source": [
    "news=news[['Title', 'Date', 'Press', 'Topic', 'Text']]"
   ]
  },
  {
   "cell_type": "code",
   "execution_count": null,
   "metadata": {
    "id": "yIoMvu_hvqkQ"
   },
   "outputs": [],
   "source": [
    "news.to_csv('news.csv',index=False)"
   ]
  }
 ],
 "metadata": {
  "colab": {
   "name": "news_merge.ipynb",
   "provenance": []
  },
  "kernelspec": {
   "display_name": "Python 3",
   "language": "python",
   "name": "python3"
  },
  "language_info": {
   "codemirror_mode": {
    "name": "ipython",
    "version": 3
   },
   "file_extension": ".py",
   "mimetype": "text/x-python",
   "name": "python",
   "nbconvert_exporter": "python",
   "pygments_lexer": "ipython3",
   "version": "3.8.3"
  }
 },
 "nbformat": 4,
 "nbformat_minor": 1
}
