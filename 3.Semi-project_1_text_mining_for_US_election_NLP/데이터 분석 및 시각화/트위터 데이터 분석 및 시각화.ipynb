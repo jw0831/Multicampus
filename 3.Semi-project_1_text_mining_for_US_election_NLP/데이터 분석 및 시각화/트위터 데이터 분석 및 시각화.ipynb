{
 "cells": [
  {
   "cell_type": "code",
   "execution_count": 5,
   "metadata": {},
   "outputs": [],
   "source": [
    "import pandas as pd\n",
    "import numpy as np\n",
    "import re"
   ]
  },
  {
   "cell_type": "code",
   "execution_count": 6,
   "metadata": {},
   "outputs": [],
   "source": [
    "from sklearn.feature_extraction.text import TfidfVectorizer\n",
    "from sklearn.feature_extraction.text import CountVectorizer"
   ]
  },
  {
   "cell_type": "code",
   "execution_count": 7,
   "metadata": {},
   "outputs": [],
   "source": [
    "import matplotlib.pyplot as plt\n",
    "from PIL import Image\n",
    "import plotly.io as pio\n",
    "import plotly.express as px\n",
    "import plotly.graph_objects as go\n",
    "import plotly.figure_factory as ff\n",
    "from plotly.subplots import make_subplots\n",
    "from plotly. validators.scatter.marker import SymbolValidator\n",
    "from wordcloud import WordCloud "
   ]
  },
  {
   "cell_type": "markdown",
   "metadata": {},
   "source": [
    "__경로 설정__"
   ]
  },
  {
   "cell_type": "code",
   "execution_count": 8,
   "metadata": {},
   "outputs": [],
   "source": [
    "path = '파일 경로'"
   ]
  },
  {
   "cell_type": "markdown",
   "metadata": {},
   "source": [
    "__데이터 로드__"
   ]
  },
  {
   "cell_type": "code",
   "execution_count": null,
   "metadata": {},
   "outputs": [],
   "source": [
    "import ast\n",
    "\n",
    "from_biden_corpus = pd.read_csv(path+'전처리 완료 파일명')\n",
    "to_biden_corpus = pd.read_csv(path+'전처리 완료 파일명')\n",
    "from_trump_corpus = pd.read_csv(path+'전처리 완료 파일명')\n",
    "to_trump_corpus = pd.read_csv(path+'전처리 완료 파일명')\n",
    "\n",
    "from_biden_corpus = ast.literval_eval(from_biden_corpus)\n",
    "to_biden_corpus = ast.literval_eval(from_biden_corpus)\n",
    "from_trump_corpus = ast.literval_eval(from_biden_corpus)\n",
    "to_trump_corpus = ast.literval_eval(from_biden_corpus)"
   ]
  },
  {
   "cell_type": "markdown",
   "metadata": {},
   "source": [
    "## TF Wordcloud"
   ]
  },
  {
   "cell_type": "code",
   "execution_count": null,
   "metadata": {
    "scrolled": true
   },
   "outputs": [],
   "source": [
    "fbc_text=[] # from_biden_corpus\n",
    "tbc_text=[] # to_biden_corpus\n",
    "ftc_text=[] # from_trump_corpus\n",
    "ttc_text=[] # to_trump_corpus\n",
    "\n",
    "vector_fbc = CountVectorizer()\n",
    "vector_tbc = CountVectorizer()\n",
    "vector_ftc = CountVectorizer()\n",
    "vector_ttc = CountVectorizer()\n",
    "\n",
    "# 문장 단위의 코퍼스를 전체 문장으로 결합\n",
    "fbc_text.append(' '.join(from_biden_corpus))\n",
    "tbc_text.append(' '.join(to_biden_corpus))\n",
    "ftc_text.append(' '.join(from_trump_corpus))\n",
    "ttc_text.append(' '.join(to_trump_corpus))\n",
    "\n",
    "# 문서가 1개 짜리인 단어 콜랙션 만들기\n",
    "fbc=vector_fbc.fit_transform(fbc_text)\n",
    "tbc=vector_tbc.fit_transform(tbc_text)\n",
    "ftc=vector_ftc.fit_transform(ftc_text)\n",
    "ttc=vector_ttc.fit_transform(ttc_text)\n",
    "\n",
    "fb=pd.DataFrame(fbc.toarray(), columns=vector_fbc.get_feature_names()).T\n",
    "ft=pd.DataFrame(ftc.toarray(), columns=vector_ftc.get_feature_names()).T\n",
    "tb=pd.DataFrame(tbc.toarray(), columns=vector_tbc.get_feature_names()).T\n",
    "tt=pd.DataFrame(ttc.toarray(), columns=vector_ttc.get_feature_names()).T\n",
    "\n",
    "fb.rename(columns={0:'frequency'}, inplace=True)\n",
    "ft.rename(columns={0:'frequency'}, inplace=True)\n",
    "tb.rename(columns={0:'frequency'}, inplace=True)\n",
    "tt.rename(columns={0:'frequency'}, inplace=True)\n",
    "\n",
    "fb=fb.to_dict()\n",
    "ft=ft.to_dict()\n",
    "tb=tb.to_dict()\n",
    "tt=tt.to_dict()"
   ]
  },
  {
   "cell_type": "markdown",
   "metadata": {},
   "source": [
    "#### 이미지 마스크"
   ]
  },
  {
   "cell_type": "code",
   "execution_count": null,
   "metadata": {},
   "outputs": [],
   "source": [
    "path_image= '이미지 경로'"
   ]
  },
  {
   "cell_type": "code",
   "execution_count": null,
   "metadata": {
    "scrolled": true
   },
   "outputs": [],
   "source": [
    "biden_mask = np.array(Image.open(path_image+\"바이든 이미지 파일명\"))\n",
    "trump_mask = np.array(Image.open(path_image+\"트럼프 이미지 파일명\"))\n",
    "crowd_mask = np.array(Image.open(path_image+\"대중 이미지 파일명\"))"
   ]
  },
  {
   "cell_type": "markdown",
   "metadata": {},
   "source": [
    "#### 바이든 트위터 워드클라우드"
   ]
  },
  {
   "cell_type": "code",
   "execution_count": null,
   "metadata": {},
   "outputs": [],
   "source": [
    "fbTF = WordCloud(relative_scaling = 0.2,\n",
    "                 background_color='white',\n",
    "                 mask=biden_mask,\n",
    "                 contour_width=2,\n",
    "                 contour_color='darkblue'\n",
    "                     ).generate_from_frequencies(fb['frequency'])\n",
    "plt.figure(figsize=(15,10))\n",
    "plt.imshow(fbTF)\n",
    "plt.axis(\"off\")\n",
    "plt.show()"
   ]
  },
  {
   "cell_type": "markdown",
   "metadata": {},
   "source": [
    "#### 트럼프 트위터 워드클라우드"
   ]
  },
  {
   "cell_type": "code",
   "execution_count": null,
   "metadata": {},
   "outputs": [],
   "source": [
    "ftTF = WordCloud(relative_scaling = 0.2,\n",
    "                 background_color='white',\n",
    "                 mask=trump_mask,\n",
    "                 contour_width=2,\n",
    "                 contour_color='darkred'\n",
    "                     ).generate_from_frequencies(ft['frequency'])\n",
    "plt.figure(figsize=(15,10))\n",
    "plt.imshow(ftTF)\n",
    "plt.axis(\"off\")\n",
    "plt.show()"
   ]
  },
  {
   "cell_type": "markdown",
   "metadata": {},
   "source": [
    "#### 사람들이 바이든에게 보낸 트위터 워드클라우드"
   ]
  },
  {
   "cell_type": "code",
   "execution_count": null,
   "metadata": {},
   "outputs": [],
   "source": [
    "tbTF = WordCloud(relative_scaling = 0.2,\n",
    "                 background_color='white',\n",
    "                 mask=crowd_mask,\n",
    "                 contour_width=1,\n",
    "                 contour_color='darkblue'\n",
    "                     ).generate_from_frequencies(tb['frequency'])\n",
    "plt.figure(figsize=(15,10))\n",
    "plt.imshow(tbTF)\n",
    "plt.axis(\"off\")\n",
    "plt.show()"
   ]
  },
  {
   "cell_type": "markdown",
   "metadata": {},
   "source": [
    "#### 사람들이 트럼프에게 보낸 트위터 워드클라우드"
   ]
  },
  {
   "cell_type": "code",
   "execution_count": null,
   "metadata": {},
   "outputs": [],
   "source": [
    "ttTF = WordCloud(relative_scaling = 0.2,\n",
    "                 background_color='white',\n",
    "                 mask=crowd_mask,\n",
    "                 contour_width=1,\n",
    "                 contour_color='darkred'\n",
    "                     ).generate_from_frequencies(tt['frequency'])\n",
    "plt.figure(figsize=(15,10))\n",
    "plt.imshow(ttTF)\n",
    "plt.axis(\"off\")\n",
    "plt.show()"
   ]
  },
  {
   "cell_type": "markdown",
   "metadata": {},
   "source": [
    "## TF-IDF Wordcloud"
   ]
  },
  {
   "cell_type": "code",
   "execution_count": null,
   "metadata": {
    "id": "owMM3TMHEW9o"
   },
   "outputs": [],
   "source": [
    "def TF_IDF(corpus):\n",
    "    tfidfv = TfidfVectorizer(min_df=2).fit(corpus)\n",
    "    return tfidfv\n",
    "\n",
    "from_biden_tfidf=TF_IDF(from_biden_corpus)\n",
    "to_biden_tfidf=TF_IDF(to_biden_corpus)\n",
    "from_trump_tfidf=TF_IDF(from_trump_corpus)\n",
    "to_trump_tfidf=TF_IDF(to_trump_corpus)\n",
    "\n",
    "from_biden_TFIDF_matrix = from_biden_tfidf.transform(from_biden_corpus).toarray()\n",
    "to_biden_TFIDF_matrix = to_biden_tfidf.transform(to_biden_corpus).toarray()\n",
    "from_trump_TFIDF_matrix = from_trump_tfidf.transform(from_trump_corpus).toarray()\n",
    "to_trump_TFIDF_matrix = to_trump_tfidf.transform(to_trump_corpus).toarray()\n",
    "\n",
    "from_biden_word_index = {idx:word for (word,idx) in from_biden_tfidf.vocabulary_.items()}\n",
    "to_biden_word_index = {idx:word for (word,idx) in to_biden_tfidf.vocabulary_.items()}\n",
    "from_trump_word_index = {idx:word for (word,idx) in from_trump_tfidf.vocabulary_.items()}\n",
    "to_trump_word_index = {idx:word for (word,idx) in to_trump_tfidf.vocabulary_.items()}\n",
    "\n",
    "from_biden_TFIDF_sum = from_biden_TFIDF_matrix.sum(axis=0)\n",
    "to_biden_TFIDF_sum = to_biden_TFIDF_matrix.sum(axis=0)\n",
    "from_trump_TFIDF_sum = from_trump_TFIDF_matrix.sum(axis=0)\n",
    "to_trump_TFIDF_sum = to_trump_TFIDF_matrix.sum(axis=0)\n",
    "\n",
    "from_biden_TFIDF_frequencies = {from_biden_word_index[i]:from_biden_TFIDF_sum[i] for i in range(len(from_biden_tfidf.vocabulary_))}\n",
    "to_biden_TFIDF_frequencies = {to_biden_word_index[i]:to_biden_TFIDF_sum[i] for i in range(len(to_biden_tfidf.vocabulary_))}\n",
    "from_trump_TFIDF_frequencies = {from_trump_word_index[i]:from_trump_TFIDF_sum[i] for i in range(len(from_trump_tfidf.vocabulary_))}\n",
    "to_trump_TFIDF_frequencies = {to_trump_word_index[i]:to_trump_TFIDF_sum[i] for i in range(len(to_trump_tfidf.vocabulary_))}"
   ]
  },
  {
   "cell_type": "markdown",
   "metadata": {},
   "source": [
    "####  바이든 트위터 TF워드클라우드"
   ]
  },
  {
   "cell_type": "code",
   "execution_count": null,
   "metadata": {
    "id": "IwGPxNQ8EW-Z",
    "outputId": "236985fd-8af5-464f-ed9d-f0edee1460a3"
   },
   "outputs": [],
   "source": [
    "from_biden_wordcloud = WordCloud(relative_scaling = 0.2,\n",
    "                     background_color='lightblue',\n",
    "                     ).generate_from_frequencies(from_biden_TFIDF_frequencies)\n",
    "plt.figure(figsize=(15,10))\n",
    "plt.imshow(from_biden_wordcloud)\n",
    "plt.axis(\"off\")\n",
    "plt.show()"
   ]
  },
  {
   "cell_type": "markdown",
   "metadata": {},
   "source": [
    "####  트럼프 TF워드클라우드"
   ]
  },
  {
   "cell_type": "code",
   "execution_count": null,
   "metadata": {},
   "outputs": [],
   "source": [
    "from_trump_wordcloud = WordCloud(relative_scaling = 0.2,\n",
    "                     background_color='red',\n",
    "                     ).generate_from_frequencies(from_trump_TFIDF_frequencies)\n",
    "plt.figure(figsize=(15,10))\n",
    "plt.imshow(from_trump_wordcloud)\n",
    "plt.axis(\"off\")\n",
    "plt.show()"
   ]
  },
  {
   "cell_type": "markdown",
   "metadata": {},
   "source": [
    "####  바이든에게 보낸 트위터 TF워드클라우드"
   ]
  },
  {
   "cell_type": "code",
   "execution_count": null,
   "metadata": {},
   "outputs": [],
   "source": [
    "to_biden_wordcloud = WordCloud(relative_scaling = 0.2,\n",
    "                     background_color='lightblue',\n",
    "                     ).generate_from_frequencies(to_biden_TFIDF_frequencies)\n",
    "plt.figure(figsize=(15,10))\n",
    "plt.imshow(to_biden_wordcloud)\n",
    "plt.axis(\"off\")\n",
    "plt.show()"
   ]
  },
  {
   "cell_type": "markdown",
   "metadata": {},
   "source": [
    "#### 트럼프에게 보낸 트위터 TF워드클라우드"
   ]
  },
  {
   "cell_type": "code",
   "execution_count": null,
   "metadata": {},
   "outputs": [],
   "source": [
    "to_trump_wordcloud = WordCloud(relative_scaling = 0.2,\n",
    "                     background_color='red',\n",
    "                     ).generate_from_frequencies(to_trump_TFIDF_frequencies)\n",
    "plt.figure(figsize=(15,10))\n",
    "plt.imshow(to_trump_wordcloud)\n",
    "plt.axis(\"off\")\n",
    "plt.show()"
   ]
  },
  {
   "cell_type": "markdown",
   "metadata": {},
   "source": [
    "## PLOTLY"
   ]
  },
  {
   "cell_type": "markdown",
   "metadata": {},
   "source": [
    "####  데이터 처리"
   ]
  },
  {
   "cell_type": "code",
   "execution_count": null,
   "metadata": {},
   "outputs": [],
   "source": [
    "fb_df=pd.DataFrame(fbc.toarray(), columns=vector_fbc.get_feature_names()).T\n",
    "ft_df=pd.DataFrame(ftc.toarray(), columns=vector_ftc.get_feature_names()).T\n",
    "tb_df=pd.DataFrame(tbc.toarray(), columns=vector_tbc.get_feature_names()).T\n",
    "tt_df=pd.DataFrame(ttc.toarray(), columns=vector_ttc.get_feature_names()).T"
   ]
  },
  {
   "cell_type": "code",
   "execution_count": null,
   "metadata": {},
   "outputs": [],
   "source": [
    "fb_df.reset_index(inplace=True)\n",
    "ft_df.reset_index(inplace=True)\n",
    "tb_df.reset_index(inplace=True)\n",
    "tt_df.reset_index(inplace=True)"
   ]
  },
  {
   "cell_type": "code",
   "execution_count": null,
   "metadata": {},
   "outputs": [],
   "source": [
    "fb_df.rename(columns={'index':'Word', 0:'Frequency'}, inplace=True)\n",
    "ft_df.rename(columns={'index':'Word', 0:'Frequency'}, inplace=True)\n",
    "tb_df.rename(columns={'index':'Word', 0:'Frequency'}, inplace=True)\n",
    "tt_df.rename(columns={'index':'Word', 0:'Frequency'}, inplace=True)\n",
    "\n",
    "fb_df.sort_values(by='Frequency', ascending=False, inplace=True)\n",
    "ft_df.sort_values(by='Frequency', ascending=False, inplace=True)\n",
    "tb_df.sort_values(by='Frequency', ascending=False, inplace=True)\n",
    "tt_df.sort_values(by='Frequency', ascending=False, inplace=True)"
   ]
  },
  {
   "cell_type": "markdown",
   "metadata": {},
   "source": [
    "####  TF plot"
   ]
  },
  {
   "cell_type": "code",
   "execution_count": null,
   "metadata": {},
   "outputs": [],
   "source": [
    "fb_df_fig = px.bar(fb_df[:20], x='Word',y='Frequency', color='Frequency', color_continuous_scale=px.colors.sequential.Cividis_r, title='From Biden\\'s Twitter by Term Frequency')\n",
    "ft_df_fig = px.bar(ft_df[:20], x='Word',y='Frequency',color='Frequency', color_continuous_scale=[\"green\", \"purple\", \"red\"], title='From Trump\\'s Twitter by Term Frequency')\n",
    "tb_df_fig = px.bar(tb_df[:20], x='Word',y='Frequency',color='Frequency', color_continuous_scale=px.colors.sequential.Cividis_r, title='To Biden\\'s Twitter by Term Frequency')\n",
    "tt_df_fig = px.bar(tt_df[:20], x='Word',y='Frequency',color='Frequency', color_continuous_scale=[\"green\", \"purple\", \"red\"], title='To Trump\\'s Twitter by Term Frequency')\n",
    "\n",
    "fb_df_fig.show()\n",
    "ft_df_fig.show()\n",
    "tb_df_fig.show()\n",
    "tt_df_fig.show()"
   ]
  },
  {
   "cell_type": "markdown",
   "metadata": {},
   "source": [
    "#### TF-IDF plot"
   ]
  },
  {
   "cell_type": "code",
   "execution_count": null,
   "metadata": {},
   "outputs": [],
   "source": [
    "from_biden_plot=pd.DataFrame(from_biden_TFIDF_frequencies, index=['frequency']).T\n",
    "to_biden_plot=pd.DataFrame(to_biden_TFIDF_frequencies, index=['frequency']).T\n",
    "from_trump_plot=pd.DataFrame(from_trump_TFIDF_frequencies, index=['frequency']).T\n",
    "to_trump_plot=pd.DataFrame(to_trump_TFIDF_frequencies, index=['frequency']).T"
   ]
  },
  {
   "cell_type": "code",
   "execution_count": null,
   "metadata": {},
   "outputs": [],
   "source": [
    "from_biden_plot.reset_index(inplace=True)\n",
    "to_biden_plot.reset_index(inplace=True)\n",
    "from_trump_plot.reset_index(inplace=True)\n",
    "to_trump_plot.reset_index(inplace=True)"
   ]
  },
  {
   "cell_type": "code",
   "execution_count": null,
   "metadata": {},
   "outputs": [],
   "source": [
    "from_biden_plot.rename(columns={'index':'Word', 'frequency':'Frequency'}, inplace=True)\n",
    "to_biden_plot.rename(columns={'index':'Word', 'frequency':'Frequency'}, inplace=True)\n",
    "from_trump_plot.rename(columns={'index':'Word', 'frequency':'Frequency'}, inplace=True)\n",
    "to_trump_plot.rename(columns={'index':'Word', 'frequency':'Frequency'}, inplace=True)"
   ]
  },
  {
   "cell_type": "code",
   "execution_count": null,
   "metadata": {},
   "outputs": [],
   "source": [
    "from_biden_plot.sort_values(by='Frequency', ascending=False, inplace=True)\n",
    "to_biden_plot.sort_values(by='Frequency', ascending=False, inplace=True)\n",
    "from_trump_plot.sort_values(by='Frequency', ascending=False, inplace=True)\n",
    "to_trump_plot.sort_values(by='Frequency', ascending=False, inplace=True)"
   ]
  },
  {
   "cell_type": "code",
   "execution_count": null,
   "metadata": {
    "scrolled": true
   },
   "outputs": [],
   "source": [
    "from_biden_plot_fig = px.bar(from_biden_plot[:20], x='Word',y='Frequency', color='Frequency', color_continuous_scale=px.colors.sequential.Cividis_r, title='From Biden\\'s Twitter by TF-IDF')\n",
    "to_biden_plot_fig = px.bar(to_biden_plot[:20], x='Word',y='Frequency',color='Frequency', color_continuous_scale=px.colors.sequential.Cividis_r, title='To Biden\\'s Twitter by TF-IDF')\n",
    "from_trump_plot_fig = px.bar(from_trump_plot[:20], x='Word',y='Frequency',color='Frequency', color_continuous_scale=[\"green\", \"purple\", \"red\"], title='From Trump\\'s Twitter by TF-IDF')\n",
    "to_trump_plot_fig = px.bar(to_trump_plot[:20], x='Word',y='Frequency',color='Frequency', color_continuous_scale=[\"green\", \"purple\", \"red\"], title='To Trump\\'s Twitter by TF-IDF')\n",
    "\n",
    "\n",
    "from_biden_plot_fig.show()\n",
    "to_biden_plot_fig.show()\n",
    "from_trump_plot_fig.show()\n",
    "to_trump_plot_fig.show()"
   ]
  },
  {
   "cell_type": "markdown",
   "metadata": {},
   "source": [
    "# 감성분석"
   ]
  },
  {
   "cell_type": "code",
   "execution_count": null,
   "metadata": {},
   "outputs": [],
   "source": [
    "from sentiment_lexicon import Lexicon\n",
    "from vaderSentiment.vaderSentiment import SentimentIntensityAnalyzer"
   ]
  },
  {
   "cell_type": "code",
   "execution_count": null,
   "metadata": {},
   "outputs": [],
   "source": [
    "def sentiment_analyzer_scores(sentence):\n",
    "    score = analyser.polarity_scores(sentence)\n",
    "    print(\"{:-<40} {}\".format(sentence, str(score)))"
   ]
  },
  {
   "cell_type": "markdown",
   "metadata": {},
   "source": [
    "객체 생성"
   ]
  },
  {
   "cell_type": "code",
   "execution_count": null,
   "metadata": {},
   "outputs": [],
   "source": [
    "analyser = SentimentIntensityAnalyzer()"
   ]
  },
  {
   "cell_type": "markdown",
   "metadata": {},
   "source": [
    "분석용 개별 데이터 프레임 생성"
   ]
  },
  {
   "cell_type": "code",
   "execution_count": null,
   "metadata": {},
   "outputs": [],
   "source": [
    "to_biden_corpus_df=pd.DataFrame(to_biden_corpus, columns=['sent_corpus'])\n",
    "to_trump_corpus_df=pd.DataFrame(to_trump_corpus, columns=['sent_corpus'])\n",
    "\n",
    "to_biden_df=pd.read_csv(path+\"원본 데이터 파일명\")\n",
    "to_trump_df=pd.read_csv(path+\"원본 데이터 파일명\")\n",
    "new_to_biden_df=pd.concat([to_biden_df[['date','text']],to_biden_corpus_df], axis=1)\n",
    "new_to_trump_df=pd.concat([to_trump_df[['date','text']],to_trump_corpus_df], axis=1)"
   ]
  },
  {
   "cell_type": "markdown",
   "metadata": {},
   "source": [
    "감정 점수 계산 및 저장"
   ]
  },
  {
   "cell_type": "code",
   "execution_count": null,
   "metadata": {},
   "outputs": [],
   "source": [
    "# 🥶 biden\n",
    "new_to_biden_temp =[]\n",
    "analyzer = SentimentIntensityAnalyzer()\n",
    "for sentence in new_to_biden_df['sent_corpus']:\n",
    "    vs = analyzer.polarity_scores(sentence)\n",
    "    new_to_biden_temp.append(\"{:-<65} {}\".format(sentence, str(vs)))\n",
    "    \n",
    "# 🤬 trump\n",
    "new_to_trump_temp =[]\n",
    "analyzer = SentimentIntensityAnalyzer()\n",
    "for sentence in new_to_trump_df['sent_corpus']:\n",
    "    vs = analyzer.polarity_scores(sentence)\n",
    "    new_to_trump_temp.append(\"{:-<65} {}\".format(sentence, str(vs)))    "
   ]
  },
  {
   "cell_type": "markdown",
   "metadata": {},
   "source": [
    "항목별 감정 점수 딕셔너리 변환 및 저장"
   ]
  },
  {
   "cell_type": "code",
   "execution_count": null,
   "metadata": {},
   "outputs": [],
   "source": [
    "# 🥶 biden\n",
    "df_to_biden_senti = pd.DataFrame(new_to_biden_temp)\n",
    "temp_biden = []\n",
    "for text in df_to_biden_senti[0]:\n",
    "    senten = text.split(\"{\")\n",
    "    for p in senten:\n",
    "        point = p.split(\",\")\n",
    "    res = {\"sentence\" : senten[0], \"neg\": point[0][6:], \"neu\": point[1][7:], \"pos\": point[2][7:], \"compound\" : point[3][12:-2]}\n",
    "    temp_biden.append(res)\n",
    "    \n",
    "\n",
    "# 🤬 trump\n",
    "df_to_trump_senti = pd.DataFrame(new_to_trump_temp)\n",
    "temp_trump = []\n",
    "for text in df_to_trump_senti[0]:\n",
    "    senten = text.split(\"{\")\n",
    "    for p in senten:\n",
    "        point = p.split(\",\")\n",
    "    res = {\"sentence\" : senten[0], \"neg\": point[0][6:], \"neu\": point[1][7:], \"pos\": point[2][7:], \"compound\" : point[3][12:-2]}\n",
    "    temp_trump.append(res)"
   ]
  },
  {
   "cell_type": "markdown",
   "metadata": {},
   "source": [
    "- positive sentiment: compound score >= 0.05\n",
    "- neutral sentiment: (compound score > -0.05) and (compound score < 0.05)\n",
    "- negative sentiment: compound score <= -0.05"
   ]
  },
  {
   "cell_type": "code",
   "execution_count": null,
   "metadata": {},
   "outputs": [],
   "source": [
    "# 🥶 biden\n",
    "df_temp_biden = pd.DataFrame(temp_biden)\n",
    "df_temp_biden[[\"neg\", \"neu\", \"pos\",\"compound\"]] = df_temp_biden[[\"neg\", \"neu\", \"pos\",\"compound\"]].astype(\"float32\")\n",
    "\n",
    "# 🤬 trump\n",
    "df_temp_trump = pd.DataFrame(temp_trump)\n",
    "df_temp_trump[[\"neg\", \"neu\", \"pos\",\"compound\"]] = df_temp_trump[[\"neg\", \"neu\", \"pos\",\"compound\"]].astype(\"float32\")"
   ]
  },
  {
   "cell_type": "code",
   "execution_count": null,
   "metadata": {},
   "outputs": [],
   "source": [
    "to_trump_senti=pd.concat([new_to_trump_df,df_temp_trump], axis=1)\n",
    "to_biden_senti=pd.concat([new_to_biden_df,df_temp_biden], axis=1)"
   ]
  },
  {
   "cell_type": "code",
   "execution_count": null,
   "metadata": {},
   "outputs": [],
   "source": [
    "to_biden_senti['sentiment']=np.where(to_biden_senti['compound']>=0.05,1, np.where(to_biden_senti['compound']<=-0.05,-1,0))\n",
    "to_trump_senti['sentiment']=np.where(to_trump_senti['compound']>=0.05,1, np.where(to_trump_senti['compound']<=-0.05,-1,0))"
   ]
  },
  {
   "cell_type": "code",
   "execution_count": null,
   "metadata": {},
   "outputs": [],
   "source": [
    "to_trump_senti_by_date=to_trump_senti.groupby('date')[['neg','neu','pos','compound','sentiment']].mean()\n",
    "to_biden_senti_by_date=to_biden_senti.groupby('date')[['neg','neu','pos','compound','sentiment']].mean()\n",
    "\n",
    "to_trump_senti_by_date.to_csv(\"트럼프 트위터 감성정수 파일명\", index=False)\n",
    "to_biden_senti_by_date.to_csv(\"바이든 트위터 감성정수 파일명\", index=False)"
   ]
  },
  {
   "cell_type": "markdown",
   "metadata": {},
   "source": [
    "## 감성분석 Plot"
   ]
  },
  {
   "cell_type": "markdown",
   "metadata": {},
   "source": [
    "__일별 감성 점수 추이 시각화__"
   ]
  },
  {
   "cell_type": "code",
   "execution_count": null,
   "metadata": {},
   "outputs": [],
   "source": [
    "trump_line_fig = px.line(to_trump_senti_by_date, x=to_trump_senti_by_date.index, y=to_trump_senti_by_date['sentiment'], title='Sentiment towards Trump')\n",
    "biden_line_fig = px.line(to_biden_senti_by_date, x=to_biden_senti_by_date.index, y=to_biden_senti_by_date['sentiment'], title='Sentiment towards Biden')\n",
    "\n",
    "trump_line_fig.update_xaxes(\n",
    "    rangeslider_visible=True,\n",
    "    rangeselector=dict(\n",
    "        buttons=list([\n",
    "            dict(count=1, label=\"1m\", step=\"month\", stepmode=\"backward\"),\n",
    "            dict(count=6, label=\"6m\", step=\"month\", stepmode=\"backward\"),\n",
    "            dict(count=1, label=\"YTD\", step=\"year\", stepmode=\"todate\"),\n",
    "            dict(count=1, label=\"1y\", step=\"year\", stepmode=\"backward\"),\n",
    "            dict(step=\"all\")\n",
    "        ])\n",
    "    )\n",
    ")\n",
    "biden_line_fig.update_xaxes(\n",
    "    rangeslider_visible=True,\n",
    "    rangeselector=dict(\n",
    "        buttons=list([\n",
    "            dict(count=1, label=\"1m\", step=\"month\", stepmode=\"backward\"),\n",
    "            dict(count=6, label=\"6m\", step=\"month\", stepmode=\"backward\"),\n",
    "            dict(count=1, label=\"YTD\", step=\"year\", stepmode=\"todate\"),\n",
    "            dict(count=1, label=\"1y\", step=\"year\", stepmode=\"backward\"),\n",
    "            dict(step=\"all\")\n",
    "        ])\n",
    "    )\n",
    ")\n",
    "trump_line_fig.show()\n",
    "biden_line_fig.show()"
   ]
  },
  {
   "cell_type": "markdown",
   "metadata": {},
   "source": [
    "__두 후보의 개별 감성 점수 바 그래프__"
   ]
  },
  {
   "cell_type": "code",
   "execution_count": null,
   "metadata": {
    "scrolled": true
   },
   "outputs": [],
   "source": [
    "trump_bar_stock_fig = px.bar(to_trump_senti_by_date, x=to_trump_senti_by_date.index, y=\"sentiment\")\n",
    "biden_bar_stock_fig = px.bar(to_biden_senti_by_date, x=to_biden_senti_by_date.index, y=\"sentiment\")\n",
    "trump_bar_stock_fig.show()\n",
    "biden_bar_stock_fig.show()"
   ]
  },
  {
   "cell_type": "markdown",
   "metadata": {},
   "source": [
    "__두 후보의 바 그래프 통합 시각화__"
   ]
  },
  {
   "cell_type": "code",
   "execution_count": null,
   "metadata": {
    "scrolled": true
   },
   "outputs": [],
   "source": [
    "trump_biden_sentimen = go.Figure()\n",
    "trump_biden_sentimen.add_trace(go.Bar(\n",
    "    x=to_trump_senti_by_date.index,\n",
    "    y=to_trump_senti_by_date.sentiment,\n",
    "    name='Sentiment towards Trump',\n",
    "    marker_color='indianred'\n",
    "))\n",
    "trump_biden_sentimen.add_trace(go.Bar(\n",
    "    x=to_biden_senti_by_date.index,\n",
    "    y=to_biden_senti_by_date.sentiment,\n",
    "    name='Sentiment towards Biden',\n",
    "    marker_color='darkblue'\n",
    "))\n",
    "\n",
    "# Here we modify the tickangle of the xaxis, resulting in rotated labels.\n",
    "trump_biden_sentimen.update_layout(barmode='group', xaxis_tickangle=-45, width=2000, height=800)\n",
    "trump_biden_sentimen.show()"
   ]
  },
  {
   "cell_type": "markdown",
   "metadata": {},
   "source": [
    "__Pos , Neg , Neu , Compound 및 감성 분류 항목별 통합 추이 그래프__"
   ]
  },
  {
   "cell_type": "code",
   "execution_count": null,
   "metadata": {},
   "outputs": [],
   "source": [
    "to_trump_senti_by_date.columns.name='emotion'\n",
    "to_biden_senti_by_date.columns.name='emotion'"
   ]
  },
  {
   "cell_type": "code",
   "execution_count": null,
   "metadata": {
    "scrolled": true
   },
   "outputs": [],
   "source": [
    "trump_area_fig = px.area(to_trump_senti_by_date, facet_col=\"emotion\", facet_col_wrap=2, title='Emotion towards Trump')\n",
    "biden_area_fig = px.area(to_biden_senti_by_date, facet_col=\"emotion\", facet_col_wrap=2, title='Emotion towards Biden')\n",
    "trump_area_fig.show()\n",
    "biden_area_fig.show()"
   ]
  }
 ],
 "metadata": {
  "kernelspec": {
   "display_name": "Python 3",
   "language": "python",
   "name": "python3"
  },
  "language_info": {
   "codemirror_mode": {
    "name": "ipython",
    "version": 3
   },
   "file_extension": ".py",
   "mimetype": "text/x-python",
   "name": "python",
   "nbconvert_exporter": "python",
   "pygments_lexer": "ipython3",
   "version": "3.8.3"
  }
 },
 "nbformat": 4,
 "nbformat_minor": 4
}
